{
 "cells": [
  {
   "cell_type": "code",
   "execution_count": 1,
   "metadata": {},
   "outputs": [],
   "source": [
    "import os\n",
    "import shutil\n",
    "import pathlib\n",
    "import matplotlib.pyplot as plt\n",
    "import numpy as np\n",
    "import tensorflow as tf\n",
    "import seaborn as sns\n",
    "import scipy.io.wavfile as wavfile\n",
    "import scipy.signal as signal\n",
    "\n",
    "from sklearn.metrics import classification_report, confusion_matrix, precision_score, recall_score, accuracy_score\n",
    "from tensorflow.keras import layers, models"
   ]
  },
  {
   "cell_type": "code",
   "execution_count": 2,
   "metadata": {},
   "outputs": [
    {
     "name": "stdout",
     "output_type": "stream",
     "text": [
      "['belly_pain' 'burping' 'discomfort' 'hungry' 'tired']\n"
     ]
    }
   ],
   "source": [
    "#load the dataset \n",
    "FILE_PATH = 'C:\\\\Users\\\\hp\\\\Desktop\\\\infant baby cry\\\\donateacry_corpus'\n",
    "dataset = pathlib.Path(FILE_PATH)\n",
    "cry_list = np.array(tf.io.gfile.listdir(str(dataset)))\n",
    "print(cry_list) "
   ]
  },
  {
   "cell_type": "code",
   "execution_count": 3,
   "metadata": {},
   "outputs": [
    {
     "name": "stdout",
     "output_type": "stream",
     "text": [
      "{'belly_pain': 16, 'burping': 8, 'discomfort': 27, 'hungry': 382, 'tired': 24}\n"
     ]
    }
   ],
   "source": [
    "# target number of samples per class\n",
    "TARGET_COUNT = 30\n",
    "\n",
    "class_files = {cry: list((dataset / cry).glob('*.wav')) for cry in cry_list}\n",
    "class_counts = {cry: len(files) for cry, files in class_files.items()}\n",
    "print(class_counts)"
   ]
  },
  {
   "cell_type": "code",
   "execution_count": null,
   "metadata": {},
   "outputs": [],
   "source": []
  }
 ],
 "metadata": {
  "kernelspec": {
   "display_name": "Python 3",
   "language": "python",
   "name": "python3"
  },
  "language_info": {
   "codemirror_mode": {
    "name": "ipython",
    "version": 3
   },
   "file_extension": ".py",
   "mimetype": "text/x-python",
   "name": "python",
   "nbconvert_exporter": "python",
   "pygments_lexer": "ipython3",
   "version": "3.11.9"
  }
 },
 "nbformat": 4,
 "nbformat_minor": 2
}
